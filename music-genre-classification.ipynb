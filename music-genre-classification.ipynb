{
 "cells": [
  {
   "cell_type": "code",
   "execution_count": 1,
   "id": "62f4644a",
   "metadata": {
    "execution": {
     "iopub.execute_input": "2024-01-14T02:17:36.408442Z",
     "iopub.status.busy": "2024-01-14T02:17:36.407479Z",
     "iopub.status.idle": "2024-01-14T02:17:36.838630Z",
     "shell.execute_reply": "2024-01-14T02:17:36.837744Z"
    },
    "papermill": {
     "duration": 0.439276,
     "end_time": "2024-01-14T02:17:36.841265",
     "exception": false,
     "start_time": "2024-01-14T02:17:36.401989",
     "status": "completed"
    },
    "tags": []
   },
   "outputs": [],
   "source": [
    "import pandas as pd\n",
    "import numpy as np"
   ]
  },
  {
   "cell_type": "code",
   "execution_count": 2,
   "id": "788df8e3",
   "metadata": {
    "execution": {
     "iopub.execute_input": "2024-01-14T02:17:36.848757Z",
     "iopub.status.busy": "2024-01-14T02:17:36.848025Z",
     "iopub.status.idle": "2024-01-14T02:17:37.226636Z",
     "shell.execute_reply": "2024-01-14T02:17:37.225346Z"
    },
    "papermill": {
     "duration": 0.38534,
     "end_time": "2024-01-14T02:17:37.229349",
     "exception": false,
     "start_time": "2024-01-14T02:17:36.844009",
     "status": "completed"
    },
    "tags": []
   },
   "outputs": [],
   "source": [
    "# read csv\n",
    "ds = pd.read_csv(\"/kaggle/input/gtzan-dataset-music-genre-classification/Data/features_3_sec.csv\")"
   ]
  },
  {
   "cell_type": "markdown",
   "id": "1dc50da8",
   "metadata": {
    "papermill": {
     "duration": 0.002207,
     "end_time": "2024-01-14T02:17:37.234225",
     "exception": false,
     "start_time": "2024-01-14T02:17:37.232018",
     "status": "completed"
    },
    "tags": []
   },
   "source": [
    "# Exploring audio data's features\n",
    "### Tempo\n",
    "Tempo is a measurement of the speed of musical compositions, normally denoted using beats per minute (BPM).\n",
    "\n",
    "### Harmonics\n",
    "Integers of the fundamental frequency. For example, the first harmonic is the lowest frequency. If we consider a plucked string, the first harmonic can be visualized as a standing wave which has a node at either end.\n",
    "\n",
    "![harmonic_visualization](https://tghsl3physics.weebly.com/uploads/1/5/4/8/15482154/2803764.jpg?1424074599)[Figure 1](http://tghsl3physics.weebly.com/standing-waves.html)\n",
    "\n",
    "### Spectral Centroid\n",
    "\n",
    "Also known as center of spectral mass. The spectral centroid is a measure of the center of mass on a spectrum, and it provides insight into the brightness of a sound.\n",
    "\n",
    "### Spectral Rolloff\n",
    "\n",
    "The spectral rolloff point is the measured point where a percentage of the spectrum's total energy is contained below it. Typical percentages are between 85% and 95%. A lower rolloff point can indicate lower frequencies (and more bass), and a higher rolloff point can indicate higher frequencies (and more treble).[[1]](https://musicinformationretrieval.com/spectral_features.html#:~:text=Spectral%20rolloff%20is%20the%20frequency,%2C%20e.g.%2085%25%2C%20lies.)\n",
    "\n",
    "### Mel Frequency Cepstral Coefficients (MFCCs)\n",
    "MFCCs are useful in providing context based on human hearing, and in representing timbre (tone quality). The Mel Scale is based off the way humans perceive sound. The first step to developing an MFCC is converting frequency from Hertz to the Mel Scale. The log of the Mel converted frequencies is taken, and a discrete cosine transformation is used on the log's magnitude. This gives us MFCCs in the form of a spectrogram over the Mel frequencies (rather than over time).[[2]](https://towardsdatascience.com/learning-from-audio-the-mel-scale-mel-spectrograms-and-mel-frequency-cepstral-coefficients-f5752b6324a8)\n",
    "\n",
    "### Zero Crossing Rate (ZCR)\n",
    "ZCR is the number of times a signal transitions over zero. So the rate at which it goes from positive, to zero, to negative, or vice versa. ZCR is an indicator for noise: a higher ZCR indicates a noisier signal. [[3]](https://www.sciencedirect.com/topics/engineering/zero-crossing-rate)\n",
    "\n",
    "\n",
    "### Chroma Frequencies\n",
    "In western music, the musical octave has 12 distinct semitones (chroma). Analysis of chroma frequencies provides us with a visual representation based on musical notes (disregarding octave), which can help find similarities in audio. A chromogram represents the intensity of each chroma over time. [[4]](https://ee.columbia.edu/~dpwe/resources/matlab/chroma-ansyn/)"
   ]
  },
  {
   "cell_type": "markdown",
   "id": "610648f7",
   "metadata": {
    "papermill": {
     "duration": 0.002092,
     "end_time": "2024-01-14T02:17:37.238689",
     "exception": false,
     "start_time": "2024-01-14T02:17:37.236597",
     "status": "completed"
    },
    "tags": []
   },
   "source": [
    "# Sources\n",
    "\\[1\\]: https://musicinformationretrieval.com/spectral_features.html#:~:text=Spectral%20rolloff%20is%20the%20frequency,%2C%20e.g.%2085%25%2C%20lies.\n",
    "\n",
    "\\[2\\]: https://towardsdatascience.com/learning-from-audio-the-mel-scale-mel-spectrograms-and-mel-frequency-cepstral-coefficients-f5752b6324a8\n",
    "\n",
    "\\[3\\]: https://www.sciencedirect.com/topics/engineering/zero-crossing-rate\n",
    "\n",
    "\\[4\\]: https://ee.columbia.edu/~dpwe/resources/matlab/chroma-ansyn/\n",
    "\n",
    "\\[Figure 1\\]: http://tghsl3physics.weebly.com/standing-waves.html"
   ]
  }
 ],
 "metadata": {
  "kaggle": {
   "accelerator": "none",
   "dataSources": [
    {
     "datasetId": 568973,
     "sourceId": 1032238,
     "sourceType": "datasetVersion"
    }
   ],
   "dockerImageVersionId": 30635,
   "isGpuEnabled": false,
   "isInternetEnabled": false,
   "language": "python",
   "sourceType": "notebook"
  },
  "kernelspec": {
   "display_name": "Python 3",
   "language": "python",
   "name": "python3"
  },
  "language_info": {
   "codemirror_mode": {
    "name": "ipython",
    "version": 3
   },
   "file_extension": ".py",
   "mimetype": "text/x-python",
   "name": "python",
   "nbconvert_exporter": "python",
   "pygments_lexer": "ipython3",
   "version": "3.10.12"
  },
  "papermill": {
   "default_parameters": {},
   "duration": 4.920771,
   "end_time": "2024-01-14T02:17:37.761251",
   "environment_variables": {},
   "exception": null,
   "input_path": "__notebook__.ipynb",
   "output_path": "__notebook__.ipynb",
   "parameters": {},
   "start_time": "2024-01-14T02:17:32.840480",
   "version": "2.4.0"
  }
 },
 "nbformat": 4,
 "nbformat_minor": 5
}
