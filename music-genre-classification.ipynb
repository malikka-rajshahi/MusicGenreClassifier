{
 "cells": [
  {
   "cell_type": "code",
   "execution_count": 1,
   "id": "a40484b5",
   "metadata": {
    "execution": {
     "iopub.execute_input": "2024-01-13T20:03:32.516273Z",
     "iopub.status.busy": "2024-01-13T20:03:32.515305Z",
     "iopub.status.idle": "2024-01-13T20:03:32.923322Z",
     "shell.execute_reply": "2024-01-13T20:03:32.922364Z"
    },
    "papermill": {
     "duration": 0.414897,
     "end_time": "2024-01-13T20:03:32.925911",
     "exception": false,
     "start_time": "2024-01-13T20:03:32.511014",
     "status": "completed"
    },
    "tags": []
   },
   "outputs": [],
   "source": [
    "import pandas as pd\n",
    "import numpy as np"
   ]
  },
  {
   "cell_type": "code",
   "execution_count": 2,
   "id": "4bd2de70",
   "metadata": {
    "execution": {
     "iopub.execute_input": "2024-01-13T20:03:32.932503Z",
     "iopub.status.busy": "2024-01-13T20:03:32.931989Z",
     "iopub.status.idle": "2024-01-13T20:03:33.266306Z",
     "shell.execute_reply": "2024-01-13T20:03:33.265240Z"
    },
    "papermill": {
     "duration": 0.34054,
     "end_time": "2024-01-13T20:03:33.269147",
     "exception": false,
     "start_time": "2024-01-13T20:03:32.928607",
     "status": "completed"
    },
    "tags": []
   },
   "outputs": [],
   "source": [
    "# read csv\n",
    "ds = pd.read_csv(\"/kaggle/input/gtzan-dataset-music-genre-classification/Data/features_3_sec.csv\")"
   ]
  },
  {
   "cell_type": "markdown",
   "id": "56370042",
   "metadata": {
    "papermill": {
     "duration": 0.002065,
     "end_time": "2024-01-13T20:03:33.273782",
     "exception": false,
     "start_time": "2024-01-13T20:03:33.271717",
     "status": "completed"
    },
    "tags": []
   },
   "source": [
    "# Exploring audio data's features\n",
    "### Tempo\n",
    "Tempo is a measurement of the speed of musical compositions, normally denoted using beats per minute (BPM).\n",
    "\n",
    "### Harmonics\n",
    "Integers of the fundamental frequency. For example, the first harmonic is the lowest frequency. If we consider a plucked string, the first harmonic can be visualized as a standing wave which has a node at either end.\n",
    "![harmonic_visualization](https://tghsl3physics.weebly.com/uploads/1/5/4/8/15482154/2803764.jpg?1424074599)\n",
    "\n",
    "### Spectral Centroid\n",
    "\n",
    "Also known as center of spectral mass. The spectral centroid is a measure of the center of mass on a spectrum. It provides insight into the brightness of a sound.\n",
    "\n",
    "**Spectral Rolloff**\n",
    "\n",
    "**Mel Frequency Cepstral Coefficients (MFCCs)**\n",
    "\n",
    "**Zero Crossing Rate**\n",
    "\n",
    "**Spectral Shape Descriptors**\n",
    "\n",
    "**Chroma Frequencies**"
   ]
  },
  {
   "cell_type": "markdown",
   "id": "4faff728",
   "metadata": {
    "papermill": {
     "duration": 0.001944,
     "end_time": "2024-01-13T20:03:33.277932",
     "exception": false,
     "start_time": "2024-01-13T20:03:33.275988",
     "status": "completed"
    },
    "tags": []
   },
   "source": [
    "# Sources\n",
    "Harmonic Visual: http://tghsl3physics.weebly.com/standing-waves.html"
   ]
  }
 ],
 "metadata": {
  "kaggle": {
   "accelerator": "none",
   "dataSources": [
    {
     "datasetId": 568973,
     "sourceId": 1032238,
     "sourceType": "datasetVersion"
    }
   ],
   "dockerImageVersionId": 30635,
   "isGpuEnabled": false,
   "isInternetEnabled": false,
   "language": "python",
   "sourceType": "notebook"
  },
  "kernelspec": {
   "display_name": "Python 3",
   "language": "python",
   "name": "python3"
  },
  "language_info": {
   "codemirror_mode": {
    "name": "ipython",
    "version": 3
   },
   "file_extension": ".py",
   "mimetype": "text/x-python",
   "name": "python",
   "nbconvert_exporter": "python",
   "pygments_lexer": "ipython3",
   "version": "3.10.12"
  },
  "papermill": {
   "default_parameters": {},
   "duration": 4.539795,
   "end_time": "2024-01-13T20:03:33.699954",
   "environment_variables": {},
   "exception": null,
   "input_path": "__notebook__.ipynb",
   "output_path": "__notebook__.ipynb",
   "parameters": {},
   "start_time": "2024-01-13T20:03:29.160159",
   "version": "2.4.0"
  }
 },
 "nbformat": 4,
 "nbformat_minor": 5
}
